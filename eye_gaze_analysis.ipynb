{
 "cells": [
  {
   "cell_type": "markdown",
   "metadata": {},
   "source": [
    "# Analyze Eye Gaze Data"
   ]
  },
  {
   "cell_type": "code",
   "execution_count": null,
   "metadata": {},
   "outputs": [],
   "source": [
    "%matplotlib inline\n",
    "%load_ext autoreload\n",
    "%autoreload 2\n",
    "\n",
    "import pandas as pd\n",
    "import numpy as np\n",
    "import pickle\n",
    "from statsmodels.robust.scale import mad\n",
    "\n",
    "import matplotlib.pyplot as plt"
   ]
  },
  {
   "cell_type": "code",
   "execution_count": null,
   "metadata": {},
   "outputs": [],
   "source": [
    "a = pd.read_csv('adhd_eye_movement_data/user_info.csv')\n",
    "a.iloc[a.index[a['Subject'] == 3][0]]['Group']"
   ]
  },
  {
   "cell_type": "code",
   "execution_count": null,
   "metadata": {},
   "outputs": [],
   "source": [
    "def load_raw_data(subject_num):\n",
    "    data_dir = 'adhd_eye_movement_data/'\n",
    "    raw_data_dir = data_dir + 'raw_data/'\n",
    "    user_info_df = pd.read_csv(data_dir + 'user_info.csv')\n",
    "\n",
    "    user_info_df_subj = user_info_df['Subject']\n",
    "    data = pd.DataFrame()\n",
    "\n",
    "    # If off-ADHD/on-ADHD subject:\n",
    "    if user_info_df_subj.value_counts()[subject_num] == 2:\n",
    "        data = pd.read_csv(\"{}/subject_{}_off_ADHD.csv\".format(raw_data_dir, subject_num))\n",
    "    elif user_info_df_subj.value_counts()[subject_num] == 1:\n",
    "        group = user_info_df.iloc[user_info_df.index[user_info_df['Subject'] == subject_num][0]]['Group']\n",
    "\n",
    "        if group == 'off-ADHD':\n",
    "            data = pd.read_csv(\"{}/subject_{}_off_ADHD.csv\".format(raw_data_dir, subject_num))\n",
    "        elif group == 'Ctrl':\n",
    "            data = pd.read_csv(\"{}/subject_{}_Ctrl.csv\".format(raw_data_dir, subject_num))\n",
    "    else:\n",
    "        return -1\n",
    "\n",
    "    data = data.dropna(subset=['Time']).set_index('Time')\n",
    "    data.index = data.index.astype(int)\n",
    "    \n",
    "    return data\n",
    "\n",
    "def extract_trials(raw_data):\n",
    "    trials = []\n",
    "    for idx, row in raw_data[raw_data['Events'] == 7].iterrows():\n",
    "        # Find start of trial\n",
    "        start_interval = raw_data.loc[idx-5250:idx-4250]\n",
    "        end_interval = raw_data.loc[idx:idx+4000]\n",
    "        \n",
    "        start_idx = idx - 4750\n",
    "        if 1 in start_interval['Events'].values:\n",
    "            assert start_interval['Events'].value_counts()[1] == 1\n",
    "\n",
    "            start_idx = start_interval.index[start_interval['Events'] == 1].to_list()[0]\n",
    "        elif 2 in start_interval['Events'].values:\n",
    "            assert start_interval['Events'].value_counts()[2] == 1\n",
    "\n",
    "            start_idx = start_interval.index[start_interval['Events'] == 2].to_list()[0]\n",
    "        \n",
    "        trials.append(raw_data.loc[start_idx:start_idx+7999].to_numpy())\n",
    "    \n",
    "    return trials"
   ]
  },
  {
   "cell_type": "code",
   "execution_count": null,
   "metadata": {},
   "outputs": [],
   "source": [
    "test = load_raw_data(16)\n",
    "test"
   ]
  },
  {
   "cell_type": "code",
   "execution_count": null,
   "metadata": {},
   "outputs": [],
   "source": [
    "test_trials = extract_trials(test)\n",
    "test_trials"
   ]
  },
  {
   "cell_type": "code",
   "execution_count": null,
   "metadata": {},
   "outputs": [],
   "source": [
    "test_trials[0][:, 3]"
   ]
  },
  {
   "cell_type": "markdown",
   "metadata": {},
   "source": [
    "# Data Preprocessing"
   ]
  },
  {
   "cell_type": "markdown",
   "metadata": {},
   "source": [
    "## Heuristic Spike Filter + Signal Loss + Noise Reduction"
   ]
  },
  {
   "cell_type": "code",
   "execution_count": null,
   "metadata": {},
   "outputs": [],
   "source": [
    "from eye_gaze_analysis import *\n",
    "\n",
    "clf = EyegazeClassifier()\n",
    "\n",
    "data = {'x': test_trials[0][:, 1], 'y': test_trials[0][:, 2]}"
   ]
  },
  {
   "cell_type": "code",
   "execution_count": null,
   "metadata": {},
   "outputs": [],
   "source": [
    "events = clf(clf.preproc(data))\n",
    "events"
   ]
  },
  {
   "cell_type": "code",
   "execution_count": null,
   "metadata": {},
   "outputs": [],
   "source": [
    "clf.show_gaze(pp=clf.preproc(data), events=events)"
   ]
  },
  {
   "cell_type": "code",
   "execution_count": null,
   "metadata": {},
   "outputs": [],
   "source": [
    "filtered_x = heuristic_spike_filter(raw_x)\n",
    "plt.plot(filtered_x)"
   ]
  },
  {
   "cell_type": "code",
   "execution_count": null,
   "metadata": {},
   "outputs": [],
   "source": [
    "filtered_y = heuristic_spike_filter(raw_y)\n",
    "plt.plot(filtered_y)"
   ]
  },
  {
   "cell_type": "code",
   "execution_count": null,
   "metadata": {},
   "outputs": [],
   "source": [
    "# Euclidean distance\n",
    "# Input: (x1, y1), (x2, y2)\n",
    "def euclidean_dist(point1, point2):\n",
    "    return np.sqrt(np.square(point1[0] - point2[0]) + np.square(point1[1] - point2[1]))\n",
    "\n",
    "# Point-to-point velocity\n",
    "# Input: (x1, y1), (x2, y2)\n",
    "def ptp_velocity(point1, point2, t1, t2):\n",
    "    return euclidean_dist(point1, point2) / (t2 - t1)\n",
    "\n",
    "# Point-to-point velocities for a given interval\n",
    "# Input: df \n",
    "def ptp_velocities(data):\n",
    "    velocities = []\n",
    "    for idx, row in data.iterrows():\n",
    "        if idx + 1 < len(data):\n",
    "            pass\n",
    "\n",
    "print(euclidean_dist(5, 0, 100, 0))\n",
    "print(ptp_velocity(5, 0, 100, 0, 5, 10))"
   ]
  },
  {
   "attachments": {},
   "cell_type": "markdown",
   "metadata": {},
   "source": [
    "# Statistical Tests"
   ]
  },
  {
   "cell_type": "code",
   "execution_count": null,
   "metadata": {},
   "outputs": [],
   "source": [
    "def classifySubjectN(n, trial_num):\n",
    "    # Input: subject number\n",
    "    # Output: EyegazeClassifier call output on preprocessed data for specified trial number\n",
    "    subject_raw_data = load_raw_data(n)\n",
    "    subject_trials = extract_trials(subject_raw_data)\n",
    "\n",
    "    # Eye Gaze Analysis Preprocessing\n",
    "    clf = EyegazeClassifier()\n",
    "    subject_data = {'x': subject_trials[trial_num][:, 1], 'y': subject_trials[trial_num][:, 2]}\n",
    "    events = clf(clf.preproc(subject_data))\n",
    "    return events\n",
    "\n",
    "def congregateSubjectDataN(n):\n",
    "    # Input: Subject Number\n",
    "    # Output: Summary data for all trials\n",
    "    res = []\n",
    "    for i in range(160):\n",
    "        # Assumption of 160 trials! Must change if number changes\n",
    "        res.append(classifySubjectN(n, i))\n",
    "    return res\n",
    "\n",
    "def congregateSpecific(n, field):\n",
    "    res = []\n",
    "    for i in range(160):\n",
    "        res.append([d for d in classifySubjectN(n, i) if d['label'] == field][0])\n",
    "    return res\n",
    "\n",
    "def congregateSpecificMeasurement(n, field, measurement):\n",
    "    res = []\n",
    "    for i in range(160):\n",
    "        intermediate = [d for d in classifySubjectN(n, i) if d['label'] == field]\n",
    "        if not len(intermediate):\n",
    "            # This behavior skips trials where field of interest is not produced for example 'SACC' is not available\n",
    "            continue\n",
    "        dictionary = intermediate[0]\n",
    "        res.append(dictionary[measurement])\n",
    "    return res"
   ]
  },
  {
   "cell_type": "code",
   "execution_count": null,
   "metadata": {},
   "outputs": [],
   "source": [
    "congregateSpecificMeasurement(2, 'SACC', 'avg_vel')"
   ]
  },
  {
   "cell_type": "markdown",
   "metadata": {},
   "source": [
    "# Scanpath Analysis"
   ]
  },
  {
   "cell_type": "code",
   "execution_count": null,
   "metadata": {},
   "outputs": [],
   "source": [
    "plt.plot(test['Position_1'], test['Position_2'])"
   ]
  },
  {
   "cell_type": "code",
   "execution_count": null,
   "metadata": {},
   "outputs": [],
   "source": [
    "plt.plot(fetch_data(45)['Position_1'], fetch_data(45)['Position_2'])"
   ]
  },
  {
   "cell_type": "code",
   "execution_count": null,
   "metadata": {},
   "outputs": [],
   "source": [
    "test.where(test['Events'])"
   ]
  }
 ],
 "metadata": {
  "kernelspec": {
   "display_name": "Python 3",
   "language": "python",
   "name": "python3"
  },
  "language_info": {
   "codemirror_mode": {
    "name": "ipython",
    "version": 3
   },
   "file_extension": ".py",
   "mimetype": "text/x-python",
   "name": "python",
   "nbconvert_exporter": "python",
   "pygments_lexer": "ipython3",
   "version": "3.11.0"
  },
  "vscode": {
   "interpreter": {
    "hash": "1a1af0ee75eeea9e2e1ee996c87e7a2b11a0bebd85af04bb136d915cefc0abce"
   }
  }
 },
 "nbformat": 4,
 "nbformat_minor": 4
}
