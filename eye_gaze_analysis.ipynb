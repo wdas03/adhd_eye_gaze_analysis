{
 "cells": [
  {
   "cell_type": "markdown",
   "metadata": {},
   "source": [
    "# Analyze Eye Gaze Data"
   ]
  },
  {
   "cell_type": "code",
   "execution_count": 35,
   "metadata": {},
   "outputs": [
    {
     "name": "stdout",
     "output_type": "stream",
     "text": [
      "The autoreload extension is already loaded. To reload it, use:\n",
      "  %reload_ext autoreload\n"
     ]
    }
   ],
   "source": [
    "%matplotlib inline\n",
    "%load_ext autoreload\n",
    "%autoreload 2\n",
    "\n",
    "import pandas as pd\n",
    "import numpy as np\n",
    "import pickle\n",
    "from statsmodels.robust.scale import mad\n",
    "from utils import *\n",
    "\n",
    "from eye_gaze_analysis import *\n",
    "\n",
    "import matplotlib.pyplot as plt"
   ]
  },
  {
   "cell_type": "code",
   "execution_count": 36,
   "metadata": {},
   "outputs": [
    {
     "data": {
      "text/plain": [
       "'off-ADHD'"
      ]
     },
     "execution_count": 36,
     "metadata": {},
     "output_type": "execute_result"
    }
   ],
   "source": [
    "user_info_df = pd.read_csv('adhd_eye_movement_data/user_info.csv')\n",
    "user_info_df.iloc[a.index[a['Subject'] == 3][0]]['Group']"
   ]
  },
  {
   "cell_type": "code",
   "execution_count": 37,
   "metadata": {},
   "outputs": [
    {
     "data": {
      "text/html": [
       "<div>\n",
       "<style scoped>\n",
       "    .dataframe tbody tr th:only-of-type {\n",
       "        vertical-align: middle;\n",
       "    }\n",
       "\n",
       "    .dataframe tbody tr th {\n",
       "        vertical-align: top;\n",
       "    }\n",
       "\n",
       "    .dataframe thead th {\n",
       "        text-align: right;\n",
       "    }\n",
       "</style>\n",
       "<table border=\"1\" class=\"dataframe\">\n",
       "  <thead>\n",
       "    <tr style=\"text-align: right;\">\n",
       "      <th></th>\n",
       "      <th>Subject</th>\n",
       "      <th>Age</th>\n",
       "      <th>Group</th>\n",
       "    </tr>\n",
       "  </thead>\n",
       "  <tbody>\n",
       "    <tr>\n",
       "      <th>0</th>\n",
       "      <td>1</td>\n",
       "      <td>10</td>\n",
       "      <td>off-ADHD</td>\n",
       "    </tr>\n",
       "    <tr>\n",
       "      <th>1</th>\n",
       "      <td>2</td>\n",
       "      <td>9</td>\n",
       "      <td>off-ADHD</td>\n",
       "    </tr>\n",
       "    <tr>\n",
       "      <th>2</th>\n",
       "      <td>3</td>\n",
       "      <td>9</td>\n",
       "      <td>off-ADHD</td>\n",
       "    </tr>\n",
       "    <tr>\n",
       "      <th>3</th>\n",
       "      <td>4</td>\n",
       "      <td>12</td>\n",
       "      <td>off-ADHD</td>\n",
       "    </tr>\n",
       "    <tr>\n",
       "      <th>4</th>\n",
       "      <td>5</td>\n",
       "      <td>10</td>\n",
       "      <td>off-ADHD</td>\n",
       "    </tr>\n",
       "    <tr>\n",
       "      <th>...</th>\n",
       "      <td>...</td>\n",
       "      <td>...</td>\n",
       "      <td>...</td>\n",
       "    </tr>\n",
       "    <tr>\n",
       "      <th>62</th>\n",
       "      <td>46</td>\n",
       "      <td>12</td>\n",
       "      <td>Ctrl</td>\n",
       "    </tr>\n",
       "    <tr>\n",
       "      <th>63</th>\n",
       "      <td>47</td>\n",
       "      <td>11</td>\n",
       "      <td>Ctrl</td>\n",
       "    </tr>\n",
       "    <tr>\n",
       "      <th>64</th>\n",
       "      <td>48</td>\n",
       "      <td>12</td>\n",
       "      <td>Ctrl</td>\n",
       "    </tr>\n",
       "    <tr>\n",
       "      <th>65</th>\n",
       "      <td>49</td>\n",
       "      <td>9</td>\n",
       "      <td>Ctrl</td>\n",
       "    </tr>\n",
       "    <tr>\n",
       "      <th>66</th>\n",
       "      <td>50</td>\n",
       "      <td>12</td>\n",
       "      <td>Ctrl</td>\n",
       "    </tr>\n",
       "  </tbody>\n",
       "</table>\n",
       "<p>67 rows × 3 columns</p>\n",
       "</div>"
      ],
      "text/plain": [
       "    Subject  Age     Group\n",
       "0         1   10  off-ADHD\n",
       "1         2    9  off-ADHD\n",
       "2         3    9  off-ADHD\n",
       "3         4   12  off-ADHD\n",
       "4         5   10  off-ADHD\n",
       "..      ...  ...       ...\n",
       "62       46   12      Ctrl\n",
       "63       47   11      Ctrl\n",
       "64       48   12      Ctrl\n",
       "65       49    9      Ctrl\n",
       "66       50   12      Ctrl\n",
       "\n",
       "[67 rows x 3 columns]"
      ]
     },
     "execution_count": 37,
     "metadata": {},
     "output_type": "execute_result"
    }
   ],
   "source": [
    "user_info_df"
   ]
  },
  {
   "cell_type": "markdown",
   "metadata": {},
   "source": [
    "# Data Preprocessing"
   ]
  },
  {
   "cell_type": "markdown",
   "metadata": {},
   "source": [
    "## Heuristic Spike Filter + Signal Loss + Noise Reduction"
   ]
  },
  {
   "cell_type": "code",
   "execution_count": 43,
   "metadata": {},
   "outputs": [],
   "source": [
    "def classifySubjectN(n):\n",
    "    # Input: subject number\n",
    "    # Output: EyegazeClassifier call output on preprocessed data for specified trial number\n",
    "    subject_raw_data = load_raw_data(n)\n",
    "    #subject_trials = np.concatenate(extract_trials(subject_raw_data)[:, [2,3]])\n",
    "\n",
    "    # Eye Gaze Analysis Preprocessing\n",
    "    clf = EyegazeClassifier(px2deg=deg_per_pixel(50.8, 60, 1920))\n",
    "    subject_data = {'x': subject_raw_data['Position_1'].to_numpy(), 'y': subject_raw_data['Position_2'].to_numpy()}\n",
    "    events = clf(clf.preproc(subject_data), classify_isp=False)\n",
    "    return events\n",
    "\n",
    "def congregateSubjectDataN(n):\n",
    "    # Input: Subject Number\n",
    "    # Output: Summary data for all trials\n",
    "    res = []\n",
    "    for i in range(160):\n",
    "        # Assumption of 160 trials! Must change if number changes\n",
    "        res.append(classifySubjectN(n, i))\n",
    "    return res\n",
    "\n",
    "def congregateSpecific(n, field):\n",
    "    res = []\n",
    "    for i in range(160):\n",
    "        res.append([d for d in classifySubjectN(n, i) if d['label'] == field][0])\n",
    "    return res\n",
    "\n",
    "def congregateSpecificMeasurement(n, field, measurement):\n",
    "    res = []\n",
    "    for i in range(160):\n",
    "        intermediate = [d for d in classifySubjectN(n, i) if d['label'] == field]\n",
    "        if not len(intermediate):\n",
    "            # This behavior skips trials where field of interest is not produced for example 'SACC' is not available\n",
    "            continue\n",
    "        dictionary = intermediate[0]\n",
    "        res.append(dictionary[measurement])\n",
    "    return res"
   ]
  },
  {
   "cell_type": "code",
   "execution_count": null,
   "metadata": {},
   "outputs": [],
   "source": [
    "for i in user_info_df['Subject']:\n",
    "    store_pickle(classifySubjectN(i), \"events_data/subject_{}_events.pkl\".format(i))"
   ]
  },
  {
   "cell_type": "code",
   "execution_count": null,
   "metadata": {},
   "outputs": [],
   "source": [
    "adhd_pos_events = []\n",
    "adhd_neg_events = []\n",
    "for i in range(1, 51):\n",
    "    data = load_pickle(\"events_data/subject_{}_events.pkl\".format(i))\n",
    "    if 'off-ADHD' in user_info_df[user_info_df['Subject'] == i]['Group'].to_list():\n",
    "        adhd_pos_events.append(data)\n",
    "    \n",
    "    if 'Ctrl' in user_info_df[user_info_df['Subject'] == i]['Group'].to_list():\n",
    "        adhd_neg_events.append(data)"
   ]
  },
  {
   "cell_type": "code",
   "execution_count": 102,
   "metadata": {},
   "outputs": [],
   "source": [
    "from scipy import stats\n",
    "\n",
    "def get_event_metrics(data, event_type, event_metric):\n",
    "    x = np.array([e[event_metric] for e in data if e['label'] == event_type])\n",
    "    return x[~np.isnan(x)]"
   ]
  },
  {
   "cell_type": "code",
   "execution_count": 103,
   "metadata": {},
   "outputs": [],
   "source": [
    "adhd_pos_max_avg_vel = [np.max(get_event_metrics(e, 'SACC', 'avg_vel')) for e in adhd_pos_events if len(e) > 0]\n",
    "adhd_neg_max_avg_vel = [np.max(get_event_metrics(e, 'SACC', 'avg_vel')) for e in adhd_neg_events if len(e) > 0]"
   ]
  },
  {
   "cell_type": "code",
   "execution_count": 104,
   "metadata": {},
   "outputs": [
    {
     "data": {
      "text/plain": [
       "0.02759745819082515"
      ]
     },
     "execution_count": 104,
     "metadata": {},
     "output_type": "execute_result"
    }
   ],
   "source": [
    "p_val = stats.mannwhitneyu(adhd_pos_max_avg_vel, adhd_neg_max_avg_vel)[1]\n",
    "p_val"
   ]
  },
  {
   "cell_type": "code",
   "execution_count": 40,
   "metadata": {},
   "outputs": [
    {
     "data": {
      "image/png": "[encoded data removed]",
      "text/plain": [
       "<Figure size 432x288 with 1 Axes>"
      ]
     },
     "metadata": {
      "needs_background": "light"
     },
     "output_type": "display_data"
    }
   ],
   "source": [
    "clf.show_gaze(pp=clf.preproc(data), events=events)"
   ]
  },
  {
   "cell_type": "code",
   "execution_count": null,
   "metadata": {},
   "outputs": [],
   "source": [
    "filtered_x = heuristic_spike_filter(raw_x)\n",
    "plt.plot(filtered_x)"
   ]
  },
  {
   "cell_type": "code",
   "execution_count": null,
   "metadata": {},
   "outputs": [],
   "source": [
    "filtered_y = heuristic_spike_filter(raw_y)\n",
    "plt.plot(filtered_y)"
   ]
  },
  {
   "cell_type": "code",
   "execution_count": null,
   "metadata": {},
   "outputs": [],
   "source": [
    "# Euclidean distance\n",
    "# Input: (x1, y1), (x2, y2)\n",
    "def euclidean_dist(point1, point2):\n",
    "    return np.sqrt(np.square(point1[0] - point2[0]) + np.square(point1[1] - point2[1]))\n",
    "\n",
    "# Point-to-point velocity\n",
    "# Input: (x1, y1), (x2, y2)\n",
    "def ptp_velocity(point1, point2, t1, t2):\n",
    "    return euclidean_dist(point1, point2) / (t2 - t1)\n",
    "\n",
    "# Point-to-point velocities for a given interval\n",
    "# Input: df \n",
    "def ptp_velocities(data):\n",
    "    velocities = []\n",
    "    for idx, row in data.iterrows():\n",
    "        if idx + 1 < len(data):\n",
    "            pass\n",
    "\n",
    "print(euclidean_dist(5, 0, 100, 0))\n",
    "print(ptp_velocity(5, 0, 100, 0, 5, 10))"
   ]
  },
  {
   "cell_type": "markdown",
   "metadata": {},
   "source": [
    "# Scanpath Analysis"
   ]
  },
  {
   "cell_type": "code",
   "execution_count": null,
   "metadata": {},
   "outputs": [],
   "source": [
    "plt.plot(test['Position_1'], test['Position_2'])"
   ]
  },
  {
   "cell_type": "code",
   "execution_count": null,
   "metadata": {},
   "outputs": [],
   "source": [
    "plt.plot(fetch_data(45)['Position_1'], fetch_data(45)['Position_2'])"
   ]
  },
  {
   "cell_type": "code",
   "execution_count": null,
   "metadata": {},
   "outputs": [],
   "source": [
    "test.where(test['Events'])"
   ]
  }
 ],
 "metadata": {
  "kernelspec": {
   "display_name": "python39_ml",
   "language": "python",
   "name": "python3"
  },
  "language_info": {
   "codemirror_mode": {
    "name": "ipython",
    "version": 3
   },
   "file_extension": ".py",
   "mimetype": "text/x-python",
   "name": "python",
   "nbconvert_exporter": "python",
   "pygments_lexer": "ipython3",
   "version": "3.9.13"
  },
  "vscode": {
   "interpreter": {
    "hash": "4360e8f064855b4fcb38795ffd2255a277f510637fe27c22abe081b2aaf3d81b"
   }
  }
 },
 "nbformat": 4,
 "nbformat_minor": 4
}
