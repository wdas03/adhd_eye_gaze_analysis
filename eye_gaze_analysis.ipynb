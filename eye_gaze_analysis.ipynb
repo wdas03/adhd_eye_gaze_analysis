{
 "cells": [
  {
   "cell_type": "markdown",
   "metadata": {},
   "source": [
    "# Analyze Eye Gaze Data"
   ]
  },
  {
   "cell_type": "code",
   "execution_count": 51,
   "metadata": {},
   "outputs": [
    {
     "name": "stdout",
     "output_type": "stream",
     "text": [
      "The autoreload extension is already loaded. To reload it, use:\n",
      "  %reload_ext autoreload\n"
     ]
    }
   ],
   "source": [
    "%matplotlib inline\n",
    "%load_ext autoreload\n",
    "%autoreload 2\n",
    "\n",
    "import pandas as pd\n",
    "import numpy as np\n",
    "import pickle\n",
    "from statsmodels.robust.scale import mad\n",
    "from utils import *\n",
    "\n",
    "from eye_gaze_analysis import *\n",
    "\n",
    "import matplotlib.pyplot as plt"
   ]
  },
  {
   "cell_type": "code",
   "execution_count": 52,
   "metadata": {},
   "outputs": [],
   "source": [
    "# user_info_df = pd.read_csv('adhd_eye_movement_data/user_info.csv')\n",
    "# user_info_df.iloc[a.index[a['Subject'] == 3][0]]['Group']"
   ]
  },
  {
   "cell_type": "code",
   "execution_count": 53,
   "metadata": {},
   "outputs": [
    {
     "data": {
      "text/html": [
       "<div>\n",
       "<style scoped>\n",
       "    .dataframe tbody tr th:only-of-type {\n",
       "        vertical-align: middle;\n",
       "    }\n",
       "\n",
       "    .dataframe tbody tr th {\n",
       "        vertical-align: top;\n",
       "    }\n",
       "\n",
       "    .dataframe thead th {\n",
       "        text-align: right;\n",
       "    }\n",
       "</style>\n",
       "<table border=\"1\" class=\"dataframe\">\n",
       "  <thead>\n",
       "    <tr style=\"text-align: right;\">\n",
       "      <th></th>\n",
       "      <th>Subject</th>\n",
       "      <th>Age</th>\n",
       "      <th>Group</th>\n",
       "    </tr>\n",
       "  </thead>\n",
       "  <tbody>\n",
       "    <tr>\n",
       "      <th>0</th>\n",
       "      <td>1</td>\n",
       "      <td>10</td>\n",
       "      <td>off-ADHD</td>\n",
       "    </tr>\n",
       "    <tr>\n",
       "      <th>1</th>\n",
       "      <td>2</td>\n",
       "      <td>9</td>\n",
       "      <td>off-ADHD</td>\n",
       "    </tr>\n",
       "    <tr>\n",
       "      <th>2</th>\n",
       "      <td>3</td>\n",
       "      <td>9</td>\n",
       "      <td>off-ADHD</td>\n",
       "    </tr>\n",
       "    <tr>\n",
       "      <th>3</th>\n",
       "      <td>4</td>\n",
       "      <td>12</td>\n",
       "      <td>off-ADHD</td>\n",
       "    </tr>\n",
       "    <tr>\n",
       "      <th>4</th>\n",
       "      <td>5</td>\n",
       "      <td>10</td>\n",
       "      <td>off-ADHD</td>\n",
       "    </tr>\n",
       "    <tr>\n",
       "      <th>...</th>\n",
       "      <td>...</td>\n",
       "      <td>...</td>\n",
       "      <td>...</td>\n",
       "    </tr>\n",
       "    <tr>\n",
       "      <th>62</th>\n",
       "      <td>46</td>\n",
       "      <td>12</td>\n",
       "      <td>Ctrl</td>\n",
       "    </tr>\n",
       "    <tr>\n",
       "      <th>63</th>\n",
       "      <td>47</td>\n",
       "      <td>11</td>\n",
       "      <td>Ctrl</td>\n",
       "    </tr>\n",
       "    <tr>\n",
       "      <th>64</th>\n",
       "      <td>48</td>\n",
       "      <td>12</td>\n",
       "      <td>Ctrl</td>\n",
       "    </tr>\n",
       "    <tr>\n",
       "      <th>65</th>\n",
       "      <td>49</td>\n",
       "      <td>9</td>\n",
       "      <td>Ctrl</td>\n",
       "    </tr>\n",
       "    <tr>\n",
       "      <th>66</th>\n",
       "      <td>50</td>\n",
       "      <td>12</td>\n",
       "      <td>Ctrl</td>\n",
       "    </tr>\n",
       "  </tbody>\n",
       "</table>\n",
       "<p>67 rows × 3 columns</p>\n",
       "</div>"
      ],
      "text/plain": [
       "    Subject  Age     Group\n",
       "0         1   10  off-ADHD\n",
       "1         2    9  off-ADHD\n",
       "2         3    9  off-ADHD\n",
       "3         4   12  off-ADHD\n",
       "4         5   10  off-ADHD\n",
       "..      ...  ...       ...\n",
       "62       46   12      Ctrl\n",
       "63       47   11      Ctrl\n",
       "64       48   12      Ctrl\n",
       "65       49    9      Ctrl\n",
       "66       50   12      Ctrl\n",
       "\n",
       "[67 rows x 3 columns]"
      ]
     },
     "execution_count": 53,
     "metadata": {},
     "output_type": "execute_result"
    }
   ],
   "source": [
    "user_info_df"
   ]
  },
  {
   "cell_type": "markdown",
   "metadata": {},
   "source": [
    "# Data Preprocessing"
   ]
  },
  {
   "cell_type": "markdown",
   "metadata": {},
   "source": [
    "## Heuristic Spike Filter + Signal Loss + Noise Reduction"
   ]
  },
  {
   "cell_type": "code",
   "execution_count": 54,
   "metadata": {},
   "outputs": [],
   "source": [
    "def classifySubjectN(n):\n",
    "    # Input: subject number\n",
    "    # Output: EyegazeClassifier call output on preprocessed data for specified trial number\n",
    "    subject_raw_data = load_raw_data(n)\n",
    "    #subject_trials = np.concatenate(extract_trials(subject_raw_data)[:, [2,3]])\n",
    "\n",
    "    # Eye Gaze Analysis Preprocessing\n",
    "    clf = EyegazeClassifier(px2deg=deg_per_pixel(50.8, 60, 1920))\n",
    "    subject_data = {'x': subject_raw_data['Position_1'].to_numpy(), 'y': subject_raw_data['Position_2'].to_numpy()}\n",
    "    events = clf(clf.preproc(subject_data), classify_isp=False)\n",
    "    return events\n",
    "\n",
    "def congregateSubjectDataN(n):\n",
    "    # Input: Subject Number\n",
    "    # Output: Summary data for all trials\n",
    "    res = []\n",
    "    for i in range(160):\n",
    "        # Assumption of 160 trials! Must change if number changes\n",
    "        res.append(classifySubjectN(n, i))\n",
    "    return res\n",
    "\n",
    "def congregateSpecific(n, field):\n",
    "    res = []\n",
    "    for i in range(160):\n",
    "        res.append([d for d in classifySubjectN(n, i) if d['label'] == field][0])\n",
    "    return res\n",
    "\n",
    "def congregateSpecificMeasurement(n, field, measurement):\n",
    "    res = []\n",
    "    for i in range(160):\n",
    "        intermediate = [d for d in classifySubjectN(n, i) if d['label'] == field]\n",
    "        if not len(intermediate):\n",
    "            # This behavior skips trials where field of interest is not produced for example 'SACC' is not available\n",
    "            continue\n",
    "        dictionary = intermediate[0]\n",
    "        res.append(dictionary[measurement])\n",
    "    return res\n",
    "\n",
    "def subjectSpecificData(n):\n",
    "    # Does the same as congregate subject N but returns multidimensional numpy array with trials flattened\n",
    "    res = np.array([])\n",
    "    for i in range(160):\n",
    "        # Assumption of 160 trials! Must change if number changes\n",
    "        intermediate = np.array(classifySubjectN(n, i))\n",
    "        res = np.append(res, intermediate)\n",
    "\n",
    "    return res\n",
    "\n",
    "def filteredData(n, field, measurement=None):\n",
    "    if not measurement:\n",
    "        return list(filter(lambda x:x['label'] == field, subjectSpecificData(16)))\n",
    "    else:\n",
    "        intermediate = list(filter(lambda x:x['label'] == field, subjectSpecificData(16)))\n",
    "        return [i[measurement] for i in intermediate]\n",
    "\n",
    "\n",
    "def produceMeanSeries(field, measurement, subject_numbers):\n",
    "    res = []\n",
    "    for i in subject_numbers:\n",
    "        try:\n",
    "            res.append(\n",
    "                np.mean(\n",
    "                    filteredData(i, field, measurement)\n",
    "                )\n",
    "            )\n",
    "        except ValueError:\n",
    "            print(\"Encountered ValueError for subject number \", i)\n",
    "        except Exception as e:\n",
    "            print(e, \" on patient: \", i)\n",
    "    return res\n"
   ]
  },
  {
   "cell_type": "code",
   "execution_count": 55,
   "metadata": {},
   "outputs": [],
   "source": [
    "## Uncomment when pickling data is neccessary\n",
    "# for i in user_info_df['Subject']:\n",
    "#     store_pickle(classifySubjectN(i), \"events_data/subject_{}_events.pkl\".format(i))"
   ]
  },
  {
   "cell_type": "code",
   "execution_count": 56,
   "metadata": {},
   "outputs": [
    {
     "name": "stdout",
     "output_type": "stream",
     "text": [
      "Loaded data from: events_data/subject_1_events.pkl\n",
      "Loaded data from: events_data/subject_2_events.pkl\n",
      "Loaded data from: events_data/subject_3_events.pkl\n",
      "Loaded data from: events_data/subject_4_events.pkl\n",
      "Loaded data from: events_data/subject_5_events.pkl\n",
      "Loaded data from: events_data/subject_6_events.pkl\n",
      "Loaded data from: events_data/subject_7_events.pkl\n",
      "Loaded data from: events_data/subject_8_events.pkl\n",
      "Loaded data from: events_data/subject_9_events.pkl\n",
      "Loaded data from: events_data/subject_10_events.pkl\n",
      "Loaded data from: events_data/subject_11_events.pkl\n",
      "Loaded data from: events_data/subject_12_events.pkl\n",
      "Loaded data from: events_data/subject_13_events.pkl\n",
      "Loaded data from: events_data/subject_14_events.pkl\n",
      "Loaded data from: events_data/subject_15_events.pkl\n",
      "Loaded data from: events_data/subject_16_events.pkl\n",
      "Loaded data from: events_data/subject_17_events.pkl\n",
      "Loaded data from: events_data/subject_18_events.pkl\n",
      "Loaded data from: events_data/subject_19_events.pkl\n",
      "Loaded data from: events_data/subject_20_events.pkl\n",
      "Loaded data from: events_data/subject_21_events.pkl\n",
      "Loaded data from: events_data/subject_22_events.pkl\n",
      "Loaded data from: events_data/subject_23_events.pkl\n",
      "Loaded data from: events_data/subject_24_events.pkl\n",
      "Loaded data from: events_data/subject_25_events.pkl\n",
      "Loaded data from: events_data/subject_26_events.pkl\n",
      "Loaded data from: events_data/subject_27_events.pkl\n",
      "Loaded data from: events_data/subject_28_events.pkl\n",
      "Loaded data from: events_data/subject_29_events.pkl\n",
      "Loaded data from: events_data/subject_30_events.pkl\n",
      "Loaded data from: events_data/subject_31_events.pkl\n",
      "Loaded data from: events_data/subject_32_events.pkl\n",
      "Loaded data from: events_data/subject_33_events.pkl\n",
      "Loaded data from: events_data/subject_34_events.pkl\n",
      "Loaded data from: events_data/subject_35_events.pkl\n",
      "Loaded data from: events_data/subject_36_events.pkl\n",
      "Loaded data from: events_data/subject_37_events.pkl\n",
      "Loaded data from: events_data/subject_38_events.pkl\n",
      "Loaded data from: events_data/subject_39_events.pkl\n",
      "Loaded data from: events_data/subject_40_events.pkl\n",
      "Loaded data from: events_data/subject_41_events.pkl\n",
      "Loaded data from: events_data/subject_42_events.pkl\n",
      "Loaded data from: events_data/subject_43_events.pkl\n",
      "Loaded data from: events_data/subject_44_events.pkl\n",
      "Loaded data from: events_data/subject_45_events.pkl\n",
      "Loaded data from: events_data/subject_46_events.pkl\n",
      "Loaded data from: events_data/subject_47_events.pkl\n",
      "Loaded data from: events_data/subject_48_events.pkl\n",
      "Loaded data from: events_data/subject_49_events.pkl\n",
      "Loaded data from: events_data/subject_50_events.pkl\n"
     ]
    }
   ],
   "source": [
    "adhd_pos_events = []\n",
    "adhd_neg_events = []\n",
    "for i in range(1, 51):\n",
    "    data = load_pickle(\"events_data/subject_{}_events.pkl\".format(i))\n",
    "    if 'off-ADHD' in user_info_df[user_info_df['Subject'] == i]['Group'].to_list():\n",
    "        adhd_pos_events.append(data)\n",
    "    \n",
    "    if 'Ctrl' in user_info_df[user_info_df['Subject'] == i]['Group'].to_list():\n",
    "        adhd_neg_events.append(data)"
   ]
  },
  {
   "cell_type": "code",
   "execution_count": 57,
   "metadata": {},
   "outputs": [],
   "source": [
    "from scipy import stats\n",
    "\n",
    "def get_event_metrics(data, event_type, event_metric):\n",
    "    x = np.array([e[event_metric] for e in data if e['label'] == event_type])\n",
    "    return x[~np.isnan(x)]"
   ]
  },
  {
   "cell_type": "code",
   "execution_count": 58,
   "metadata": {},
   "outputs": [],
   "source": [
    "adhd_pos_max_avg_vel = [np.max(get_event_metrics(e, 'SACC', 'avg_vel')) for e in adhd_pos_events if len(e) > 0]\n",
    "adhd_neg_max_avg_vel = [np.max(get_event_metrics(e, 'SACC', 'avg_vel')) for e in adhd_neg_events if len(e) > 0]\n",
    "adhd_pos_mean_avg_vel = [np.mean(get_event_metrics(e, 'SACC', 'avg_vel')) for e in adhd_pos_events if len(e) > 0]\n",
    "adhd_neg_mean_avg_vel = [np.mean(get_event_metrics(e, 'SACC', 'avg_vel')) for e in adhd_neg_events if len(e) > 0]"
   ]
  },
  {
   "cell_type": "code",
   "execution_count": 59,
   "metadata": {},
   "outputs": [],
   "source": [
    "import statsmodels.api as sm\n",
    "\n",
    "def getXY(positive, negative):\n",
    "    X = positive + negative\n",
    "    y = [1 for i in range(len(positive))] + [0 for i in range(len(negative))]\n",
    "    return X, y"
   ]
  },
  {
   "cell_type": "code",
   "execution_count": 60,
   "metadata": {},
   "outputs": [
    {
     "name": "stdout",
     "output_type": "stream",
     "text": [
      "Optimization terminated successfully.\n",
      "         Current function value: 0.673019\n",
      "         Iterations 4\n",
      "                           Logit Regression Results                           \n",
      "==============================================================================\n",
      "Dep. Variable:                      y   No. Observations:                   48\n",
      "Model:                          Logit   Df Residuals:                       47\n",
      "Method:                           MLE   Df Model:                            0\n",
      "Date:                Wed, 04 Jan 2023   Pseudo R-squ.:                 0.01794\n",
      "Time:                        18:13:07   Log-Likelihood:                -32.305\n",
      "converged:                       True   LL-Null:                       -32.895\n",
      "Covariance Type:            nonrobust   LLR p-value:                       nan\n",
      "==============================================================================\n",
      "                 coef    std err          z      P>|z|      [0.025      0.975]\n",
      "------------------------------------------------------------------------------\n",
      "x1             0.0008      0.001      1.372      0.170      -0.000       0.002\n",
      "==============================================================================\n"
     ]
    },
    {
     "data": {
      "text/plain": [
       "<matplotlib.collections.PathCollection at 0x15c1f7450>"
      ]
     },
     "execution_count": 60,
     "metadata": {},
     "output_type": "execute_result"
    },
    {
     "data": {
      "image/png": "[encoded data removed]",
      "text/plain": [
       "<Figure size 640x480 with 1 Axes>"
      ]
     },
     "metadata": {},
     "output_type": "display_data"
    }
   ],
   "source": [
    "# Max of avg_vel\n",
    "X, y = getXY(adhd_pos_max_avg_vel, adhd_neg_max_avg_vel)\n",
    "logit_model = sm.Logit(y, X)\n",
    "result = logit_model.fit()\n",
    "print(result.summary())\n",
    "plt.scatter(X, y)"
   ]
  },
  {
   "cell_type": "code",
   "execution_count": 61,
   "metadata": {},
   "outputs": [
    {
     "name": "stderr",
     "output_type": "stream",
     "text": [
      "/usr/local/lib/python3.11/site-packages/sklearn/utils/validation.py:1141: DataConversionWarning: A column-vector y was passed when a 1d array was expected. Please change the shape of y to (n_samples, ), for example using ravel().\n",
      "  y = column_or_1d(y, warn=True)\n"
     ]
    },
    {
     "data": {
      "text/plain": [
       "0.4"
      ]
     },
     "execution_count": 61,
     "metadata": {},
     "output_type": "execute_result"
    }
   ],
   "source": [
    "from sklearn.linear_model import LogisticRegression\n",
    "from sklearn.model_selection import train_test_split\n",
    "from sklearn.metrics import accuracy_score\n",
    "\n",
    "X_train, X_test, y_train, y_test = train_test_split(X, y, test_size=0.2, random_state=42)\n",
    "\n",
    "model = LogisticRegression()\n",
    "\n",
    "model.fit(np.array([X_train]).reshape(-1, 1), np.array([y_train]).reshape(-1, 1))\n",
    "\n",
    "y_pred = model.predict(np.array([X_test]).reshape(-1, 1))\n",
    "accuracy_score(y_test, y_pred)"
   ]
  },
  {
   "cell_type": "code",
   "execution_count": 62,
   "metadata": {},
   "outputs": [
    {
     "name": "stdout",
     "output_type": "stream",
     "text": [
      "Optimization terminated successfully.\n",
      "         Current function value: 0.678816\n",
      "         Iterations 4\n",
      "                           Logit Regression Results                           \n",
      "==============================================================================\n",
      "Dep. Variable:                      y   No. Observations:                   48\n",
      "Model:                          Logit   Df Residuals:                       47\n",
      "Method:                           MLE   Df Model:                            0\n",
      "Date:                Wed, 04 Jan 2023   Pseudo R-squ.:                0.009482\n",
      "Time:                        18:13:07   Log-Likelihood:                -32.583\n",
      "converged:                       True   LL-Null:                       -32.895\n",
      "Covariance Type:            nonrobust   LLR p-value:                       nan\n",
      "==============================================================================\n",
      "                 coef    std err          z      P>|z|      [0.025      0.975]\n",
      "------------------------------------------------------------------------------\n",
      "x1             0.0050      0.004      1.161      0.246      -0.003       0.014\n",
      "==============================================================================\n"
     ]
    },
    {
     "data": {
      "text/plain": [
       "<matplotlib.collections.PathCollection at 0x1545478d0>"
      ]
     },
     "execution_count": 62,
     "metadata": {},
     "output_type": "execute_result"
    },
    {
     "data": {
      "image/png": "[encoded data removed]",
      "text/plain": [
       "<Figure size 640x480 with 1 Axes>"
      ]
     },
     "metadata": {},
     "output_type": "display_data"
    }
   ],
   "source": [
    "# Mean of avg_vel\n",
    "X, y = getXY(adhd_pos_mean_avg_vel, adhd_neg_mean_avg_vel)\n",
    "logit_model = sm.Logit(y, X)\n",
    "result = logit_model.fit()\n",
    "print(result.summary())\n",
    "plt.scatter(X, y)"
   ]
  },
  {
   "cell_type": "code",
   "execution_count": 63,
   "metadata": {},
   "outputs": [
    {
     "data": {
      "text/plain": [
       "0.02759745819082515"
      ]
     },
     "execution_count": 63,
     "metadata": {},
     "output_type": "execute_result"
    }
   ],
   "source": [
    "p_val = stats.mannwhitneyu(adhd_pos_max_avg_vel, adhd_neg_max_avg_vel)[1]\n",
    "p_val"
   ]
  },
  {
   "cell_type": "code",
   "execution_count": 64,
   "metadata": {},
   "outputs": [
    {
     "ename": "NameError",
     "evalue": "name 'clf' is not defined",
     "output_type": "error",
     "traceback": [
      "\u001b[0;31m---------------------------------------------------------------------------\u001b[0m",
      "\u001b[0;31mNameError\u001b[0m                                 Traceback (most recent call last)",
      "Cell \u001b[0;32mIn[64], line 1\u001b[0m\n\u001b[0;32m----> 1\u001b[0m clf\u001b[39m.\u001b[39mshow_gaze(pp\u001b[39m=\u001b[39mclf\u001b[39m.\u001b[39mpreproc(data), events\u001b[39m=\u001b[39mevents)\n",
      "\u001b[0;31mNameError\u001b[0m: name 'clf' is not defined"
     ]
    }
   ],
   "source": [
    "clf.show_gaze(pp=clf.preproc(data), events=events)"
   ]
  },
  {
   "cell_type": "code",
   "execution_count": null,
   "metadata": {},
   "outputs": [],
   "source": [
    "filtered_x = heuristic_spike_filter(raw_x)\n",
    "plt.plot(filtered_x)"
   ]
  },
  {
   "cell_type": "code",
   "execution_count": null,
   "metadata": {},
   "outputs": [],
   "source": [
    "filtered_y = heuristic_spike_filter(raw_y)\n",
    "plt.plot(filtered_y)"
   ]
  },
  {
   "cell_type": "code",
   "execution_count": null,
   "metadata": {},
   "outputs": [],
   "source": [
    "# Euclidean distance\n",
    "# Input: (x1, y1), (x2, y2)\n",
    "def euclidean_dist(point1, point2):\n",
    "    return np.sqrt(np.square(point1[0] - point2[0]) + np.square(point1[1] - point2[1]))\n",
    "\n",
    "# Point-to-point velocity\n",
    "# Input: (x1, y1), (x2, y2)\n",
    "def ptp_velocity(point1, point2, t1, t2):\n",
    "    return euclidean_dist(point1, point2) / (t2 - t1)\n",
    "\n",
    "# Point-to-point velocities for a given interval\n",
    "# Input: df \n",
    "def ptp_velocities(data):\n",
    "    velocities = []\n",
    "    for idx, row in data.iterrows():\n",
    "        if idx + 1 < len(data):\n",
    "            pass\n",
    "\n",
    "print(euclidean_dist(5, 0, 100, 0))\n",
    "print(ptp_velocity(5, 0, 100, 0, 5, 10))"
   ]
  },
  {
   "cell_type": "markdown",
   "metadata": {},
   "source": [
    "# Scanpath Analysis"
   ]
  },
  {
   "cell_type": "code",
   "execution_count": null,
   "metadata": {},
   "outputs": [],
   "source": [
    "plt.plot(test['Position_1'], test['Position_2'])"
   ]
  },
  {
   "cell_type": "code",
   "execution_count": null,
   "metadata": {},
   "outputs": [],
   "source": [
    "plt.plot(fetch_data(45)['Position_1'], fetch_data(45)['Position_2'])"
   ]
  },
  {
   "cell_type": "code",
   "execution_count": null,
   "metadata": {},
   "outputs": [],
   "source": [
    "test.where(test['Events'])"
   ]
  }
 ],
 "metadata": {
  "kernelspec": {
   "display_name": "Python 3",
   "language": "python",
   "name": "python3"
  },
  "language_info": {
   "codemirror_mode": {
    "name": "ipython",
    "version": 3
   },
   "file_extension": ".py",
   "mimetype": "text/x-python",
   "name": "python",
   "nbconvert_exporter": "python",
   "pygments_lexer": "ipython3",
   "version": "3.11.0"
  },
  "vscode": {
   "interpreter": {
    "hash": "1a1af0ee75eeea9e2e1ee996c87e7a2b11a0bebd85af04bb136d915cefc0abce"
   }
  }
 },
 "nbformat": 4,
 "nbformat_minor": 4
}
